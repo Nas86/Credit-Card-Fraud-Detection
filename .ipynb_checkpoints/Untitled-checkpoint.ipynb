{
 "cells": [
  {
   "cell_type": "code",
   "execution_count": 1,
   "metadata": {
    "scrolled": false
   },
   "outputs": [],
   "source": [
    "import pandas as pd\n",
    "import numpy as np\n",
    "from scipy import stats\n",
    "import matplotlib.pyplot as plt\n",
    "%matplotlib inline\n",
    "import warnings\n",
    "warnings.filterwarnings(\"ignore\")\n",
    "import seaborn as sns\n",
    "\n",
    "from sklearn.model_selection import train_test_split\n",
    "from sklearn.preprocessing import StandardScaler\n",
    "from imblearn.over_sampling import SMOTE\n",
    "from imblearn.under_sampling import RandomUnderSampler\n",
    "from sklearn.ensemble import BaggingClassifier, RandomForestClassifier\n",
    "from sklearn.ensemble import AdaBoostClassifier, GradientBoostingClassifier, BaggingClassifier\n",
    "from sklearn.model_selection import RandomizedSearchCV, GridSearchCV\n",
    "from sklearn.metrics import plot_confusion_matrix, plot_roc_curve\n",
    "from sklearn.metrics import classification_report, accuracy_score\n",
    "from sklearn.metrics import recall_score, precision_score, f1_score, accuracy_score\n",
    "from sklearn.linear_model import LogisticRegression\n",
    "import xgboost as xgb\n",
    "from sklearn.svm import SVC"
   ]
  },
  {
   "cell_type": "code",
   "execution_count": 2,
   "metadata": {},
   "outputs": [
    {
     "data": {
      "text/html": [
       "<div>\n",
       "<style scoped>\n",
       "    .dataframe tbody tr th:only-of-type {\n",
       "        vertical-align: middle;\n",
       "    }\n",
       "\n",
       "    .dataframe tbody tr th {\n",
       "        vertical-align: top;\n",
       "    }\n",
       "\n",
       "    .dataframe thead th {\n",
       "        text-align: right;\n",
       "    }\n",
       "</style>\n",
       "<table border=\"1\" class=\"dataframe\">\n",
       "  <thead>\n",
       "    <tr style=\"text-align: right;\">\n",
       "      <th></th>\n",
       "      <th>Time</th>\n",
       "      <th>V1</th>\n",
       "      <th>V2</th>\n",
       "      <th>V3</th>\n",
       "      <th>V4</th>\n",
       "      <th>V5</th>\n",
       "      <th>V6</th>\n",
       "      <th>V7</th>\n",
       "      <th>V8</th>\n",
       "      <th>V9</th>\n",
       "      <th>...</th>\n",
       "      <th>V21</th>\n",
       "      <th>V22</th>\n",
       "      <th>V23</th>\n",
       "      <th>V24</th>\n",
       "      <th>V25</th>\n",
       "      <th>V26</th>\n",
       "      <th>V27</th>\n",
       "      <th>V28</th>\n",
       "      <th>Amount</th>\n",
       "      <th>Class</th>\n",
       "    </tr>\n",
       "  </thead>\n",
       "  <tbody>\n",
       "    <tr>\n",
       "      <td>0</td>\n",
       "      <td>0.0</td>\n",
       "      <td>-1.359807</td>\n",
       "      <td>-0.072781</td>\n",
       "      <td>2.536347</td>\n",
       "      <td>1.378155</td>\n",
       "      <td>-0.338321</td>\n",
       "      <td>0.462388</td>\n",
       "      <td>0.239599</td>\n",
       "      <td>0.098698</td>\n",
       "      <td>0.363787</td>\n",
       "      <td>...</td>\n",
       "      <td>-0.018307</td>\n",
       "      <td>0.277838</td>\n",
       "      <td>-0.110474</td>\n",
       "      <td>0.066928</td>\n",
       "      <td>0.128539</td>\n",
       "      <td>-0.189115</td>\n",
       "      <td>0.133558</td>\n",
       "      <td>-0.021053</td>\n",
       "      <td>149.62</td>\n",
       "      <td>0</td>\n",
       "    </tr>\n",
       "    <tr>\n",
       "      <td>1</td>\n",
       "      <td>0.0</td>\n",
       "      <td>1.191857</td>\n",
       "      <td>0.266151</td>\n",
       "      <td>0.166480</td>\n",
       "      <td>0.448154</td>\n",
       "      <td>0.060018</td>\n",
       "      <td>-0.082361</td>\n",
       "      <td>-0.078803</td>\n",
       "      <td>0.085102</td>\n",
       "      <td>-0.255425</td>\n",
       "      <td>...</td>\n",
       "      <td>-0.225775</td>\n",
       "      <td>-0.638672</td>\n",
       "      <td>0.101288</td>\n",
       "      <td>-0.339846</td>\n",
       "      <td>0.167170</td>\n",
       "      <td>0.125895</td>\n",
       "      <td>-0.008983</td>\n",
       "      <td>0.014724</td>\n",
       "      <td>2.69</td>\n",
       "      <td>0</td>\n",
       "    </tr>\n",
       "    <tr>\n",
       "      <td>2</td>\n",
       "      <td>1.0</td>\n",
       "      <td>-1.358354</td>\n",
       "      <td>-1.340163</td>\n",
       "      <td>1.773209</td>\n",
       "      <td>0.379780</td>\n",
       "      <td>-0.503198</td>\n",
       "      <td>1.800499</td>\n",
       "      <td>0.791461</td>\n",
       "      <td>0.247676</td>\n",
       "      <td>-1.514654</td>\n",
       "      <td>...</td>\n",
       "      <td>0.247998</td>\n",
       "      <td>0.771679</td>\n",
       "      <td>0.909412</td>\n",
       "      <td>-0.689281</td>\n",
       "      <td>-0.327642</td>\n",
       "      <td>-0.139097</td>\n",
       "      <td>-0.055353</td>\n",
       "      <td>-0.059752</td>\n",
       "      <td>378.66</td>\n",
       "      <td>0</td>\n",
       "    </tr>\n",
       "    <tr>\n",
       "      <td>3</td>\n",
       "      <td>1.0</td>\n",
       "      <td>-0.966272</td>\n",
       "      <td>-0.185226</td>\n",
       "      <td>1.792993</td>\n",
       "      <td>-0.863291</td>\n",
       "      <td>-0.010309</td>\n",
       "      <td>1.247203</td>\n",
       "      <td>0.237609</td>\n",
       "      <td>0.377436</td>\n",
       "      <td>-1.387024</td>\n",
       "      <td>...</td>\n",
       "      <td>-0.108300</td>\n",
       "      <td>0.005274</td>\n",
       "      <td>-0.190321</td>\n",
       "      <td>-1.175575</td>\n",
       "      <td>0.647376</td>\n",
       "      <td>-0.221929</td>\n",
       "      <td>0.062723</td>\n",
       "      <td>0.061458</td>\n",
       "      <td>123.50</td>\n",
       "      <td>0</td>\n",
       "    </tr>\n",
       "    <tr>\n",
       "      <td>4</td>\n",
       "      <td>2.0</td>\n",
       "      <td>-1.158233</td>\n",
       "      <td>0.877737</td>\n",
       "      <td>1.548718</td>\n",
       "      <td>0.403034</td>\n",
       "      <td>-0.407193</td>\n",
       "      <td>0.095921</td>\n",
       "      <td>0.592941</td>\n",
       "      <td>-0.270533</td>\n",
       "      <td>0.817739</td>\n",
       "      <td>...</td>\n",
       "      <td>-0.009431</td>\n",
       "      <td>0.798278</td>\n",
       "      <td>-0.137458</td>\n",
       "      <td>0.141267</td>\n",
       "      <td>-0.206010</td>\n",
       "      <td>0.502292</td>\n",
       "      <td>0.219422</td>\n",
       "      <td>0.215153</td>\n",
       "      <td>69.99</td>\n",
       "      <td>0</td>\n",
       "    </tr>\n",
       "  </tbody>\n",
       "</table>\n",
       "<p>5 rows × 31 columns</p>\n",
       "</div>"
      ],
      "text/plain": [
       "   Time        V1        V2        V3        V4        V5        V6        V7  \\\n",
       "0   0.0 -1.359807 -0.072781  2.536347  1.378155 -0.338321  0.462388  0.239599   \n",
       "1   0.0  1.191857  0.266151  0.166480  0.448154  0.060018 -0.082361 -0.078803   \n",
       "2   1.0 -1.358354 -1.340163  1.773209  0.379780 -0.503198  1.800499  0.791461   \n",
       "3   1.0 -0.966272 -0.185226  1.792993 -0.863291 -0.010309  1.247203  0.237609   \n",
       "4   2.0 -1.158233  0.877737  1.548718  0.403034 -0.407193  0.095921  0.592941   \n",
       "\n",
       "         V8        V9  ...       V21       V22       V23       V24       V25  \\\n",
       "0  0.098698  0.363787  ... -0.018307  0.277838 -0.110474  0.066928  0.128539   \n",
       "1  0.085102 -0.255425  ... -0.225775 -0.638672  0.101288 -0.339846  0.167170   \n",
       "2  0.247676 -1.514654  ...  0.247998  0.771679  0.909412 -0.689281 -0.327642   \n",
       "3  0.377436 -1.387024  ... -0.108300  0.005274 -0.190321 -1.175575  0.647376   \n",
       "4 -0.270533  0.817739  ... -0.009431  0.798278 -0.137458  0.141267 -0.206010   \n",
       "\n",
       "        V26       V27       V28  Amount  Class  \n",
       "0 -0.189115  0.133558 -0.021053  149.62      0  \n",
       "1  0.125895 -0.008983  0.014724    2.69      0  \n",
       "2 -0.139097 -0.055353 -0.059752  378.66      0  \n",
       "3 -0.221929  0.062723  0.061458  123.50      0  \n",
       "4  0.502292  0.219422  0.215153   69.99      0  \n",
       "\n",
       "[5 rows x 31 columns]"
      ]
     },
     "execution_count": 2,
     "metadata": {},
     "output_type": "execute_result"
    }
   ],
   "source": [
    "df = pd.read_csv('creditcard.csv')\n",
    "df.head()"
   ]
  },
  {
   "cell_type": "code",
   "execution_count": 3,
   "metadata": {},
   "outputs": [],
   "source": [
    "y = df['Class']\n",
    "X = df.drop(columns=['Class','Time','Amount'], axis=1)\n",
    "X_train, X_test, y_train, y_test = train_test_split(X, y, test_size = 0.2, random_state=123)"
   ]
  },
  {
   "cell_type": "code",
   "execution_count": null,
   "metadata": {},
   "outputs": [],
   "source": [
    "# col_names = ['Amount','Time']\n",
    "# features = X_train_standard [col_names]\n",
    "# ss = StandardScaler()\n",
    "# scaler = ss.fit(features.values)\n",
    "# features = scaler.transform(features.values)\n",
    "# X_train_standard [col_names]=features\n"
   ]
  },
  {
   "cell_type": "code",
   "execution_count": null,
   "metadata": {},
   "outputs": [],
   "source": [
    "#X_train_standard['normAmount'] = StandardScaler().fit_transform(data['Amount'].values.reshape(-1,1))"
   ]
  },
  {
   "cell_type": "code",
   "execution_count": 4,
   "metadata": {},
   "outputs": [
    {
     "name": "stdout",
     "output_type": "stream",
     "text": [
      "1    227468\n",
      "0    227468\n",
      "Name: Class, dtype: int64\n"
     ]
    }
   ],
   "source": [
    "X_train_resampled, y_train_resampled = SMOTE().fit_sample(X_train, y_train)\n",
    "print(pd.Series(y_train_resampled).value_counts())"
   ]
  },
  {
   "cell_type": "code",
   "execution_count": 5,
   "metadata": {},
   "outputs": [
    {
     "name": "stdout",
     "output_type": "stream",
     "text": [
      "1    377\n",
      "0    377\n",
      "Name: Class, dtype: int64\n"
     ]
    }
   ],
   "source": [
    "rus = RandomUnderSampler()\n",
    "X_train_rus, y_train_rus = rus.fit_sample(X_train, y_train)\n",
    "print(pd.Series(y_train_rus).value_counts()) "
   ]
  },
  {
   "cell_type": "code",
   "execution_count": 6,
   "metadata": {},
   "outputs": [],
   "source": [
    "#Function\n",
    "def perform_evaluate(title,cm,X,y):\n",
    "    print(title)\n",
    "    y_pred = cm.predict(X)\n",
    "    print(\"accuracy: {}\".format(accuracy_score(y,y_pred)))\n",
    "    print(\"precision: {}\".format(precision_score(y,y_pred)))\n",
    "    print(\"recall: {}\".format(recall_score(y,y_pred)))\n",
    "    print(\"f2: {}\".format(f1_score(y,y_pred,average='binary')))\n",
    "    print(\" \")\n",
    "\n",
    "def grid_search(cm, param_grid, cv, X_train,y_train,X_test, y_test ):\n",
    "    rf_grid_search = GridSearchCV(rf_clf, rf_param_grid, cv=3,\n",
    "                              return_train_score=True)\n",
    "    rf_grid_search.fit(X_train, y_train)\n",
    "\n",
    "    rf_grid_training_score = np.mean(rf_grid_search.cv_results_['mean_train_score'])\n",
    "    rf_grid_score = rf_grid_search.score(X_test, y_test)\n",
    "    rf_grid_search.best_params_\n",
    "    print(f\"Mean Training Score: {rf_grid_training_score :.2%}\")\n",
    "    print(f\"Mean Test Score: {rf_grid_score :.2%}\")\n",
    "    print(f\"Best Parameter Combination Found During Grid Search: {rf_grid_search.best_params_ :}\")\n",
    "\n",
    "def plot_conf_matrix(cm,x,y,class_names,title):\n",
    "    plot_confusion_matrix(estimator = cm, X=x, y_true=y,\n",
    "                          display_labels=class_names,cmap=plt.cm.Blues)\n",
    "    plt.title(title)\n",
    "    plt.show()\n",
    "    \n",
    "def plot_roc(cm,X,y,title):\n",
    "    y_pred = cm.predict(X)\n",
    "    plot_roc_curve(cm, X, y)\n",
    "    plt.plot([0, 1], [0, 1], color='red', lw=2, linestyle='--')\n",
    "    plt.title(title)\n",
    "    plt.show() \n",
    "    \n",
    "class_names = [\"Normal\",\"Fraud\"]"
   ]
  },
  {
   "cell_type": "code",
   "execution_count": 7,
   "metadata": {},
   "outputs": [
    {
     "data": {
      "text/plain": [
       "RandomForestClassifier(max_depth=5, random_state=123)"
      ]
     },
     "execution_count": 7,
     "metadata": {},
     "output_type": "execute_result"
    }
   ],
   "source": [
    "rf_clf = RandomForestClassifier(criterion='gini', max_depth=5, random_state = 123) \n",
    "rf_clf.fit(X_train_rus, y_train_rus)"
   ]
  },
  {
   "cell_type": "code",
   "execution_count": 8,
   "metadata": {},
   "outputs": [
    {
     "name": "stdout",
     "output_type": "stream",
     "text": [
      "Random Forest Classifier Traning data:\n",
      "accuracy: 0.9602122015915119\n",
      "precision: 1.0\n",
      "recall: 0.9204244031830239\n",
      "f2: 0.9585635359116021\n",
      " \n",
      "Random Forest Classifier Test data:\n",
      "accuracy: 0.9846388820617253\n",
      "precision: 0.10824742268041238\n",
      "recall: 0.9130434782608695\n",
      "f2: 0.19354838709677422\n",
      " \n"
     ]
    }
   ],
   "source": [
    "perform_evaluate(\"Random Forest Classifier Traning data:\",rf_clf,X_train_rus,y_train_rus)\n",
    "perform_evaluate(\"Random Forest Classifier Test data:\",rf_clf,X_test,y_test)"
   ]
  },
  {
   "cell_type": "code",
   "execution_count": 9,
   "metadata": {},
   "outputs": [],
   "source": [
    "rf_param_grid = {\n",
    "    'criterion': ['gini', 'entropy'],\n",
    "    'max_depth': [None,6],\n",
    "    'min_samples_split': [5, 10],\n",
    "    'min_samples_leaf': [1,3],\n",
    "    'n_estimators': [200, 500]\n",
    "}"
   ]
  },
  {
   "cell_type": "code",
   "execution_count": null,
   "metadata": {},
   "outputs": [],
   "source": [
    "grid_search(rf_clf, rf_param_grid, 3, X_train_rus, y_train_rus, X_test, y_test )"
   ]
  },
  {
   "cell_type": "code",
   "execution_count": null,
   "metadata": {},
   "outputs": [],
   "source": [
    "rf=  RandomForestClassifier(criterion='entropy',\n",
    "                           max_depth=None,\n",
    "                           min_samples_split=5,\n",
    "                           min_samples_leaf=1,\n",
    "                           n_estimators= 500)\n",
    "rf.fit(X_train_rus, y_train_rus)\n",
    "perform_evaluate(\"Random Forest Classifier with GridSearch Traning data:\",rf_clf,X_train_rus,y_train_rus)\n",
    "perform_evaluate(\"Random Forest Classifier with GridSearch Test data:\",rf_clf,X_test,y_test)"
   ]
  },
  {
   "cell_type": "code",
   "execution_count": null,
   "metadata": {},
   "outputs": [],
   "source": [
    "plot_conf_matrix(rf,X_train_rus, y_train_rus,class_names,'Random Farest Confusion matrix')\n",
    "plot_roc(rf,X_train_rus, y_train_rus,'Random Farest ROC Curve')\n"
   ]
  },
  {
   "cell_type": "code",
   "execution_count": null,
   "metadata": {},
   "outputs": [],
   "source": [
    "class_names = [\"Normal\",\"Fraud\"]\n",
    "plot_confusion_matrix(rf, X_train_rus, y_train_rus, \n",
    "                      display_labels=class_names,\n",
    "                      cmap=plt.cm.Blues)\n",
    "plt.title('Random Farest Confusion matrix')\n",
    "plt.show()\n",
    "\n",
    "from sklearn.metrics import plot_roc_curve, classification_report\n",
    "y_pred = rf.predict(X_train_rus)\n",
    "\n",
    "plot_roc_curve(rf, X_train_rus, y_train_rus)\n",
    "plt.plot([0, 1], [0, 1], color='red', lw=2, linestyle='--')\n",
    "plt.title('ROC Curve for Training data')\n",
    "plt.show()\n",
    "#print(classification_report( y_train_rus, y_pred, target_names=class_names))"
   ]
  },
  {
   "cell_type": "code",
   "execution_count": null,
   "metadata": {},
   "outputs": [],
   "source": [
    "class_names = [\"Normal\",\"Fraud\"]\n",
    "plot_confusion_matrix(rf, X_test, y_test, \n",
    "                      display_labels=class_names,\n",
    "                      cmap=plt.cm.Blues)\n",
    "plt.title('Random Farest Confusion matrix for Training Data')\n",
    "plt.show()\n"
   ]
  },
  {
   "cell_type": "code",
   "execution_count": null,
   "metadata": {},
   "outputs": [],
   "source": [
    "y_pred = rf_clf.predict(X_test)\n",
    "y_score = rf_clf.predict_proba(X_test)\n",
    "lw=2\n",
    "plot_roc_curve(rf_clf, X_test, y_test)\n",
    "plt.plot([0, 1], [0, 1], color='red', lw=lw, linestyle='--')\n",
    "plt.title('ROC Curve')\n",
    "plt.show()\n",
    "print(classification_report( y_test, y_pred, target_names=class_names))"
   ]
  },
  {
   "cell_type": "code",
   "execution_count": null,
   "metadata": {},
   "outputs": [],
   "source": [
    "from sklearn.linear_model import LogisticRegression\n",
    "logreg = LogisticRegression()\n",
    "logreg.fit(X_train_rus, y_train_rus)\n",
    "\n",
    "from sklearn.model_selection import RandomizedSearchCV\n",
    "param_grid = {'C':[0.1,1, 10, 100],'penalty' : ['l1','l2'], \n",
    "            'class_weight' : ['balanced', None]}\n",
    "\n",
    "logre_rs_search = RandomizedSearchCV(logreg, param_grid,cv=5,\n",
    "                                     return_train_score=True,\n",
    "                                     verbose = 1, n_jobs = -1)\n",
    "logre_rs_search.fit(X_train_rus, y_train_rus)\n",
    "logre_rs_training_score = np.mean(logre_rs_search.cv_results_['mean_train_score'])\n",
    "logre_testing_score = logre_rs_search.score(X_test, y_test)\n",
    "\n",
    "print(f\"Mean Training Score: {logre_rs_training_score :.2%}\")\n",
    "print(f\"Mean Test Score: {logre_testing_score :.2%}\")\n",
    "print(\"Best Parameter Combination Found During Randomized Search:\")\n",
    "logre_rs_search.best_params_"
   ]
  },
  {
   "cell_type": "code",
   "execution_count": null,
   "metadata": {},
   "outputs": [],
   "source": [
    "logre = LogisticRegression(penalty= 'l2',class_weight= 'balanced', C= 0.1)\n",
    "logre.fit(X_train_rus, y_train_rus)"
   ]
  },
  {
   "cell_type": "code",
   "execution_count": null,
   "metadata": {},
   "outputs": [],
   "source": [
    "class_names = [\"Normal\",\"Fraud\"]\n",
    "plot_confusion_matrix(logre, X_train_rus, y_train_rus, \n",
    "                      display_labels=class_names,\n",
    "                      cmap=plt.cm.Blues)\n",
    "plt.title('Logistic Regression Confusion matrix')\n",
    "plt.show()\n",
    "\n",
    "\n",
    "y_pred = logre.predict(X_train_rus)\n",
    "y_score =logre.predict_proba(X_train_rus)\n",
    "lw=2\n",
    "plot_roc_curve(logre, X_train_rus, y_train_rus)\n",
    "plt.plot([0, 1], [0, 1], color='red', lw=lw, linestyle='--')\n",
    "plt.title('ROC Curve for Training data')\n",
    "plt.show()\n",
    "print(classification_report( y_train_rus, y_pred, target_names=class_names))"
   ]
  },
  {
   "cell_type": "code",
   "execution_count": null,
   "metadata": {},
   "outputs": [],
   "source": [
    "class_names = [\"Normal\",\"Fraud\"]\n",
    "plot_confusion_matrix(logre, X_test, y_test, \n",
    "                      display_labels=class_names,\n",
    "                      cmap=plt.cm.Blues)\n",
    "plt.title('Logistic Regression Confusion matrix for Test Data')\n",
    "plt.show()\n",
    "from sklearn.metrics import plot_roc_curve, classification_report\n",
    "y_pred = logre.predict(X_test)\n",
    "y_score = logre.predict_proba(X_test)\n",
    "lw=2\n",
    "plot_roc_curve(logre, X_test, y_test)\n",
    "plt.plot([0, 1], [0, 1], color='red', lw=lw, linestyle='--')\n",
    "plt.title('ROC Curve')\n",
    "plt.show()\n",
    "print(classification_report( y_test, y_pred, target_names=class_names))"
   ]
  },
  {
   "cell_type": "code",
   "execution_count": null,
   "metadata": {},
   "outputs": [],
   "source": [
    "#Extreme Gradient Boosting (XGB)\n",
    "import xgboost as xgb\n",
    "xgb_cfl = xgb.XGBClassifier(n_jobs = -1)\n",
    "xgb_cfl.fit(X_train_rus, y_train_rus)\n",
    "y_pred = xgb_cfl.predict(X_test)\n",
    "y_score = xgb_cfl.predict_proba(X_test)[:,1]"
   ]
  },
  {
   "cell_type": "code",
   "execution_count": null,
   "metadata": {},
   "outputs": [],
   "source": [
    "from sklearn.metrics import accuracy_score\n",
    "param_grid = {'n_estimators': [100, 200, 300, 400],\n",
    "             \"learning_rate\": [0.1],\n",
    "             'max_depth': [6],\n",
    "             'min_child_weight': [10],\n",
    "             'subsample': [ 0.7],}\n",
    "CV_xgb_cfl = GridSearchCV(estimator = xgb_cfl, param_grid = param_grid,\n",
    "                          scoring ='f1')\n",
    "CV_xgb_cfl.fit(X_train_rus, y_train_rus)\n",
    "\n",
    "training_preds = CV_xgb_cfl.predict(X_train_rus)\n",
    "val_preds = CV_xgb_cfl.predict(X_test)\n",
    "training_accuracy = accuracy_score(y_train_rus, training_preds)\n",
    "val_accuracy = accuracy_score(y_test, val_preds)\n",
    "\n",
    "print(\"\")\n",
    "print(\"Training Accuracy: {:.4}%\".format(training_accuracy * 100))\n",
    "print(\"Validation accuracy: {:.4}%\".format(val_accuracy * 100))\n",
    "\n",
    "\n",
    "best_parameters = CV_xgb_cfl.best_params_\n",
    "print(\"The best parameters for using this model is\", best_parameters)\n"
   ]
  },
  {
   "cell_type": "code",
   "execution_count": null,
   "metadata": {},
   "outputs": [],
   "source": [
    "xgb_cfl = xgb.XGBClassifier(n_jobs = -1, learning_rate=0.1,\n",
    "                            max_depth=6, min_child_weight= 10,\n",
    "                            n_estimators= 300, subsample= 0.7)\n",
    "xgb_cfl.fit(X_train_rus, y_train_rus)\n"
   ]
  },
  {
   "cell_type": "code",
   "execution_count": null,
   "metadata": {},
   "outputs": [],
   "source": [
    "class_names = [\"Normal\",\"Fraud\"]\n",
    "plot_confusion_matrix(xgb_cfl, X_train_rus, y_train_rus, \n",
    "                      display_labels=class_names,\n",
    "                      cmap=plt.cm.Blues)\n",
    "plt.title('XGB Confusion matrix')\n",
    "plt.show()\n",
    "\n",
    "y_pred = xgb_cfl.predict(X_train_rus)\n",
    "y_score = xgb_cfl.predict_proba(X_train_rus)[:,1]\n",
    "lw=2\n",
    "plot_roc_curve(xgb_cfl, X_train_rus, y_train_rus)\n",
    "plt.plot([0, 1], [0, 1], color='red', lw=lw, linestyle='--')\n",
    "plt.title('ROC Curve for Training data')\n",
    "plt.show()\n",
    "print(classification_report( y_train_rus, y_pred, target_names=class_names))"
   ]
  },
  {
   "cell_type": "code",
   "execution_count": null,
   "metadata": {},
   "outputs": [],
   "source": [
    "class_names = [\"Normal\",\"Fraud\"]\n",
    "plot_confusion_matrix(xgb_cfl, X_test, y_test, \n",
    "                      display_labels=class_names,\n",
    "                      cmap=plt.cm.Blues)\n",
    "plt.title('Logistic Regression Confusion matrix')\n",
    "plt.show()\n",
    "\n",
    "y_pred = xgb_cfl.predict(X_test)\n",
    "y_score = xgb_cfl.predict_proba(X_test)[:,1]\n",
    "lw=2\n",
    "plot_roc_curve(xgb_cfl, X_test, y_test)\n",
    "plt.plot([0, 1], [0, 1], color='red', lw=lw, linestyle='--')\n",
    "plt.title('ROC Curve for Training data')\n",
    "plt.show()\n",
    "print(classification_report( y_test, y_pred, target_names=class_names))"
   ]
  },
  {
   "cell_type": "code",
   "execution_count": null,
   "metadata": {
    "scrolled": true
   },
   "outputs": [],
   "source": [
    "#GBM\n",
    "from sklearn.ensemble import AdaBoostClassifier, GradientBoostingClassifier\n",
    "# Instantiate an GradientBoostingClassifier\n",
    "gbt_clf = GradientBoostingClassifier(random_state=42)\n",
    "gbt_clf.fit(X_train_rus, y_train_rus)"
   ]
  },
  {
   "cell_type": "code",
   "execution_count": null,
   "metadata": {},
   "outputs": [],
   "source": [
    "param_grid = {'n_estimators': [100, 300, 400],'learning_rate': [0.01,.005],\n",
    "              'max_depth':[5,6], 'min_samples_split':[5,10],\n",
    "              'min_samples_leaf':[5,6], 'subsample':[0.85], 'random_state':[10],\n",
    "              'max_features':[7]}\n",
    "gbt_clf_grid = GridSearchCV(estimator = gbt_clf, param_grid = param_grid,\n",
    "                          scoring ='f1')\n",
    "gbt_clf_grid.fit(X_train_rus, y_train_rus)\n",
    "\n",
    "training_preds = gbt_clf_grid.predict(X_train_rus)\n",
    "val_preds = gbt_clf_grid.predict(X_test)\n",
    "training_accuracy = accuracy_score(y_train_rus, training_preds)\n",
    "val_accuracy = accuracy_score(y_test, val_preds)\n",
    "\n",
    "print(\"\")\n",
    "print(\"Training Accuracy: {:.4}%\".format(training_accuracy * 100))\n",
    "print(\"Validation accuracy: {:.4}%\".format(val_accuracy * 100))\n",
    "\n",
    "\n",
    "best_parameters = gbt_clf_grid.best_params_\n",
    "print(\"The best parameters for using this model is\", best_parameters)"
   ]
  },
  {
   "cell_type": "code",
   "execution_count": null,
   "metadata": {},
   "outputs": [],
   "source": [
    "gbt_clf = GradientBoostingClassifier(learning_rate= 0.01, max_depth= 5,max_features=7,\n",
    "                                     min_samples_leaf=5,min_samples_split=5,\n",
    "                                     n_estimators= 300, subsample=0.85, random_state=10)\n",
    "gbt_clf.fit(X_train_rus, y_train_rus)"
   ]
  },
  {
   "cell_type": "code",
   "execution_count": null,
   "metadata": {},
   "outputs": [],
   "source": [
    "class_names = [\"Normal\",\"Fraud\"]\n",
    "plot_confusion_matrix(gbt_clf, X_train_rus, y_train_rus, \n",
    "                      display_labels=class_names,\n",
    "                      cmap=plt.cm.Blues)\n",
    "plt.title('GradientBoostingClassifier Confusion matrix')\n",
    "plt.show()\n",
    "\n",
    "y_pred = gbt_clf.predict(X_train_rus)\n",
    "y_score = gbt_clf.predict_proba(X_train_rus)[:,1]\n",
    "lw=2\n",
    "plot_roc_curve(gbt_clf, X_train_rus, y_train_rus)\n",
    "plt.plot([0, 1], [0, 1], color='red', lw=lw, linestyle='--')\n",
    "plt.title('ROC Curve for Training data')\n",
    "plt.show()\n",
    "print(classification_report( y_train_rus, y_pred, target_names=class_names))"
   ]
  },
  {
   "cell_type": "code",
   "execution_count": null,
   "metadata": {},
   "outputs": [],
   "source": [
    "class_names = [\"Normal\",\"Fraud\"]\n",
    "plot_confusion_matrix(gbt_clf, X_test, y_test, \n",
    "                      display_labels=class_names,\n",
    "                      cmap=plt.cm.Blues)\n",
    "plt.title('GradientBoostingClassifier Confusion matrix')\n",
    "plt.show()\n",
    "\n",
    "y_pred = gbt_clf.predict(X_test)\n",
    "y_score = gbt_clf.predict_proba(X_test)[:,1]\n",
    "lw=2\n",
    "plot_roc_curve(gbt_clf, X_test, y_test)\n",
    "plt.plot([0, 1], [0, 1], color='red', lw=lw, linestyle='--')\n",
    "plt.title('ROC Curve for Training data')\n",
    "plt.show()\n",
    "print(classification_report( y_test, y_pred, target_names=class_names))"
   ]
  },
  {
   "cell_type": "code",
   "execution_count": null,
   "metadata": {},
   "outputs": [],
   "source": [
    "#Adaboost\n",
    "adaboost_clf = AdaBoostClassifier(random_state=42)\n",
    "# AdaBoostClassifier(algorithm='SAMME.R', base_estimator=None, learning_rate=1.0,\n",
    "#                    n_estimators=50, random_state=42)\n",
    "adaboost_clf.fit(X_train_rus, y_train_rus)"
   ]
  },
  {
   "cell_type": "code",
   "execution_count": null,
   "metadata": {},
   "outputs": [],
   "source": [
    "param_grid = {'n_estimators': [100, 300, 400],'learning_rate': [0.01,.005],\n",
    "              'max_depth':[5,6], 'min_samples_split':[5,10],\n",
    "              'min_samples_leaf':[5,6], 'subsample':[0.85], 'random_state':[10],\n",
    "              'max_features':[7]}\n",
    "adaboost_clf_grid = GridSearchCV(estimator = gbt_clf, param_grid = param_grid,\n",
    "                          scoring ='f1')\n",
    "adaboost_clf_grid.fit(X_train_rus, y_train_rus)\n",
    "\n",
    "training_preds = adaboost_clf_grid.predict(X_train_rus)\n",
    "val_preds = adaboost_clf_grid.predict(X_test)\n",
    "training_accuracy = accuracy_score(y_train_rus, training_preds)\n",
    "val_accuracy = accuracy_score(y_test, val_preds)\n",
    "\n",
    "print(\"\")\n",
    "print(\"Training Accuracy: {:.4}%\".format(training_accuracy * 100))\n",
    "print(\"Validation accuracy: {:.4}%\".format(val_accuracy * 100))\n",
    "\n",
    "\n",
    "best_parameters = adaboost_clf_grid.best_params_\n",
    "print(\"The best parameters for using this model is\", best_parameters)"
   ]
  },
  {
   "cell_type": "code",
   "execution_count": null,
   "metadata": {},
   "outputs": [],
   "source": [
    "adaboost_clf = GradientBoostingClassifier(learning_rate= 0.01, max_depth= 5,max_features=7,\n",
    "                                     min_samples_leaf=5,min_samples_split=5,\n",
    "                                     n_estimators= 300, subsample=0.85, random_state=10)\n",
    "adaboost_clf.fit(X_train_rus, y_train_rus)"
   ]
  },
  {
   "cell_type": "code",
   "execution_count": null,
   "metadata": {},
   "outputs": [],
   "source": [
    "class_names = [\"Normal\",\"Fraud\"]\n",
    "plot_confusion_matrix(adaboost_clf, X_train_rus, y_train_rus, \n",
    "                      display_labels=class_names,\n",
    "                      cmap=plt.cm.Blues)\n",
    "plt.title('GradientBoostingClassifier Confusion matrix')\n",
    "plt.show()\n",
    "\n",
    "y_pred = adaboost_clf.predict(X_train_rus)\n",
    "y_score = adaboost_clf.predict_proba(X_train_rus)[:,1]\n",
    "lw=2\n",
    "plot_roc_curve(adaboost_clf, X_train_rus, y_train_rus)\n",
    "plt.plot([0, 1], [0, 1], color='red', lw=lw, linestyle='--')\n",
    "plt.title('ROC Curve for Training data')\n",
    "plt.show()\n",
    "print(classification_report( y_train_rus, y_pred, target_names=class_names))"
   ]
  },
  {
   "cell_type": "code",
   "execution_count": null,
   "metadata": {
    "scrolled": true
   },
   "outputs": [],
   "source": [
    "class_names = [\"Normal\",\"Fraud\"]\n",
    "plot_confusion_matrix(adaboost_clf_grid, X_test, y_test, \n",
    "                      display_labels=class_names,\n",
    "                      cmap=plt.cm.Blues)\n",
    "plt.title('GradientBoostingClassifier Confusion matrix')\n",
    "plt.show()\n",
    "\n",
    "y_pred = adaboost_clf.predict(X_test)\n",
    "y_score = adaboost_clf.predict_proba(X_test)[:,1]\n",
    "lw=2\n",
    "plot_roc_curve(adaboost_clf, X_test, y_test)\n",
    "plt.plot([0, 1], [0, 1], color='red', lw=lw, linestyle='--')\n",
    "plt.title('ROC Curve for Training data')\n",
    "plt.show()\n",
    "print(classification_report( y_test, y_pred, target_names=class_names))"
   ]
  },
  {
   "cell_type": "code",
   "execution_count": null,
   "metadata": {},
   "outputs": [],
   "source": [
    "#SVM\n",
    "from sklearn.svm import SVC\n",
    "svm_clf = svm.SVC(random_state=42)\n",
    "# AdaBoostClassifier(algorithm='SAMME.R', base_estimator=None, learning_rate=1.0,\n",
    "#                    n_estimators=50, random_state=42)\n",
    "svm_clf.fit(X_train_rus, y_train_rus)"
   ]
  },
  {
   "cell_type": "code",
   "execution_count": null,
   "metadata": {},
   "outputs": [],
   "source": [
    "#SVC\n",
    "\n",
    "gamma_range = np.array([0.1, 1, 100])\n",
    "param_grid = [{'kernel': ['rbf'], 'gamma': [1e-3, 1e-4],\n",
    "               'C': [1, 10, 100]},\n",
    "              {'kernel': ['linear'], 'C': [1, 10, 100]}]\n",
    "\n",
    "scores = ['precision', 'recall']\n",
    "\n",
    "svc_clf_grid = GridSearchCV(svm_clf, param_grid = param_grid)\n",
    "svc_clf_grid.fit(X_train_rus, y_train_rus)\n",
    "\n",
    "training_preds = svc_clf_grid.predict(X_train_rus)\n",
    "val_preds = svc_clf_grid.predict(X_test)\n",
    "training_accuracy = accuracy_score(y_train_rus, training_preds)\n",
    "val_accuracy = accuracy_score(y_test, val_preds)\n",
    "\n",
    "print(\"\")\n",
    "print(\"Training Accuracy: {:.4}%\".format(training_accuracy * 100))\n",
    "print(\"Validation accuracy: {:.4}%\".format(val_accuracy * 100))\n",
    "\n",
    "\n",
    "best_parameters = svc_clf_grid.best_params_\n",
    "print(\"The best parameters for using this model is\", best_parameters)"
   ]
  },
  {
   "cell_type": "code",
   "execution_count": null,
   "metadata": {},
   "outputs": [],
   "source": [
    "svm_clf = svm.SVC(kernel='rbf' ,gamma=0.001 , C=10 , random_state=42, probability=True)\n",
    "svm_clf.fit(X_train_rus, y_train_rus)"
   ]
  },
  {
   "cell_type": "code",
   "execution_count": null,
   "metadata": {},
   "outputs": [],
   "source": [
    "class_names = [\"Normal\",\"Fraud\"]\n",
    "plot_confusion_matrix(svm_clf, X_train_rus, y_train_rus, \n",
    "                      display_labels=class_names,\n",
    "                      cmap=plt.cm.Blues)\n",
    "plt.title('SVM Confusion matrix')\n",
    "plt.show()\n",
    "\n",
    "y_pred = svm_clf.predict(X_train_rus)\n",
    "y_score = svm_clf.predict_proba(X_train_rus)[:,1]\n",
    "lw=2\n",
    "plot_roc_curve(svm_clf, X_train_rus, y_train_rus)\n",
    "plt.plot([0, 1], [0, 1], color='red', lw=lw, linestyle='--')\n",
    "plt.title('ROC Curve for Training data')\n",
    "plt.show()\n",
    "print(classification_report( y_train_rus, y_pred, target_names=class_names))"
   ]
  },
  {
   "cell_type": "code",
   "execution_count": null,
   "metadata": {},
   "outputs": [],
   "source": [
    "class_names = [\"Normal\",\"Fraud\"]\n",
    "plot_confusion_matrix(svm_clf, X_train_rus, y_train_rus, \n",
    "                      display_labels=class_names,\n",
    "                      cmap=plt.cm.Blues)\n",
    "plt.title('SVM Confusion matrix')\n",
    "plt.show()\n",
    "\n",
    "y_pred = svm_clf.predict(X_test)\n",
    "y_score = svm_clf.predict_proba(X_test)[:,1]\n",
    "lw=2\n",
    "plot_roc_curve(svm_clf, X_test, y_test)\n",
    "plt.plot([0, 1], [0, 1], color='red', lw=lw, linestyle='--')\n",
    "plt.title('ROC Curve for Training data')\n",
    "plt.show()\n",
    "print(classification_report( y_test, y_pred, target_names=class_names))"
   ]
  },
  {
   "cell_type": "code",
   "execution_count": null,
   "metadata": {},
   "outputs": [],
   "source": [
    "#Bagging\n",
    "from sklearn.ensemble import BaggingClassifier\n",
    "bagging_clf = BaggingClassifier(svm_clf)\n",
    "bagging_clf.fit(X_train_rus, y_train_rus)"
   ]
  },
  {
   "cell_type": "code",
   "execution_count": null,
   "metadata": {},
   "outputs": [],
   "source": [
    "class_names = [\"Normal\",\"Fraud\"]\n",
    "plot_confusion_matrix(bagging_clf, X_train_rus, y_train_rus, \n",
    "                      display_labels=class_names,\n",
    "                      cmap=plt.cm.Blues)\n",
    "plt.title('Bagging Confusion matrix')\n",
    "plt.show()\n",
    "\n",
    "y_pred = bagging_clf .predict(X_train_rus)\n",
    "y_score = bagging_clf.predict_proba(X_train_rus)[:,1]\n",
    "lw=2\n",
    "plot_roc_curve(bagging_clf, X_train_rus, y_train_rus)\n",
    "plt.plot([0, 1], [0, 1], color='red', lw=lw, linestyle='--')\n",
    "plt.title('ROC Curve for Training data')\n",
    "plt.show()\n",
    "print(classification_report( y_train_rus, y_pred, target_names=class_names))"
   ]
  },
  {
   "cell_type": "code",
   "execution_count": null,
   "metadata": {},
   "outputs": [],
   "source": [
    "class_names = [\"Normal\",\"Fraud\"]\n",
    "plot_confusion_matrix(bagging_clf, X_test, y_test, \n",
    "                      display_labels=class_names,\n",
    "                      cmap=plt.cm.Blues)\n",
    "plt.title('SVM Confusion matrix')\n",
    "plt.show()\n",
    "\n",
    "y_pred = bagging_clf.predict(X_test)\n",
    "y_score = bagging_clf.predict_proba(X_test)[:,1]\n",
    "lw=2\n",
    "plot_roc_curve(bagging_clf, X_test, y_test)\n",
    "plt.plot([0, 1], [0, 1], color='red', lw=lw, linestyle='--')\n",
    "plt.title('ROC Curve for Training data')\n",
    "plt.show()\n",
    "print(classification_report( y_test, y_pred, target_names=class_names))"
   ]
  }
 ],
 "metadata": {
  "kernelspec": {
   "display_name": "Python [conda env:learn-env] *",
   "language": "python",
   "name": "conda-env-learn-env-py"
  },
  "language_info": {
   "codemirror_mode": {
    "name": "ipython",
    "version": 3
   },
   "file_extension": ".py",
   "mimetype": "text/x-python",
   "name": "python",
   "nbconvert_exporter": "python",
   "pygments_lexer": "ipython3",
   "version": "3.6.9"
  }
 },
 "nbformat": 4,
 "nbformat_minor": 2
}
